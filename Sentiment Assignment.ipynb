{
 "cells": [
  {
   "cell_type": "markdown",
   "id": "7f79baf9",
   "metadata": {},
   "source": [
    "# ADS 509 Sentiment Assignment\n",
    "\n",
    "This notebook holds the Sentiment Assignment for Module 6 in ADS 509, Applied Text Mining. Work through this notebook, writing code and answering questions where required. \n",
    "\n",
    "In a previous assignment you put together Twitter data and lyrics data on two artists. In this assignment we apply sentiment analysis to those data sets. If, for some reason, you did not complete that previous assignment, data to use for this assignment can be found in the assignment materials section of Blackboard. \n"
   ]
  },
  {
   "cell_type": "code",
   "execution_count": 193,
   "id": "e2d096b7",
   "metadata": {},
   "outputs": [],
   "source": [
    "import os\n",
    "import re\n",
    "import emoji\n",
    "import pandas as pd\n",
    "import numpy as np\n",
    "\n",
    "from collections import Counter, defaultdict\n",
    "from string import punctuation\n",
    "\n",
    "from nltk.corpus import stopwords\n",
    "\n",
    "sw = stopwords.words(\"english\")"
   ]
  },
  {
   "cell_type": "code",
   "execution_count": 195,
   "id": "6b555ab2",
   "metadata": {},
   "outputs": [],
   "source": [
    "# Add any additional import statements you need here\n",
    "import warnings\n",
    "import seaborn"
   ]
  },
  {
   "cell_type": "code",
   "execution_count": 197,
   "id": "923b5a86",
   "metadata": {},
   "outputs": [],
   "source": [
    "# change `data_location` to the location of the folder on your machine.\n",
    "data_location = \"/Users/clairebentzen/Desktop/MDAS/ADS 509 - Applied Text Mining/Module 2/Assignment2.1/M1 Results/\"\n",
    "\n",
    "# Subfolders\n",
    "twitter_folder = \"twitter/\"\n",
    "lyrics_folder = \"lyrics/\"\n",
    "\n",
    "# Specify artist_files for twitter data\n",
    "artist_files = {'cher':'cher_followers_data.txt',\n",
    "                'robyn':'robynkonichiwa_followers_data.txt'}\n",
    "\n",
    "positive_words_file = \"positive-words.txt\"\n",
    "negative_words_file = \"negative-words.txt\"\n",
    "tidy_text_file = \"tidytext_sentiments.txt\""
   ]
  },
  {
   "cell_type": "markdown",
   "id": "9d3bf93e",
   "metadata": {},
   "source": [
    "## Data Input\n",
    "\n",
    "Now read in each of the corpora. For the lyrics data, it may be convenient to store the entire contents of the file to make it easier to inspect the titles individually, as you'll do in the last part of the assignment. In the solution, I stored the lyrics data in a dictionary with two dimensions of keys: artist and song. The value was the file contents. A Pandas data frame would work equally well. \n",
    "\n",
    "For the Twitter data, we only need the description field for this assignment. Feel free all the descriptions read it into a data structure. In the solution, I stored the descriptions as a dictionary of lists, with the key being the artist. \n",
    "\n",
    "\n"
   ]
  },
  {
   "cell_type": "code",
   "execution_count": 200,
   "id": "37d70801",
   "metadata": {},
   "outputs": [],
   "source": [
    "# Read in the lyrics data\n",
    "# Specify pathway to lyrics folder\n",
    "lyrics_path = data_location + lyrics_folder\n",
    "\n",
    "# Create a dataframe to store results\n",
    "lyrics_data = pd.DataFrame(columns=['artist', 'song', 'lyrics'])\n",
    "\n",
    "# Iterate through each file in the lyrics folder\n",
    "for artist in os.listdir(lyrics_path):\n",
    "    artist_path = os.path.join(lyrics_path, artist)\n",
    "    \n",
    "    # Iterate through each file in the artist folders\n",
    "    for song in os.listdir(artist_path):\n",
    "        song_path = os.path.join(artist_path, song)\n",
    "        rem_prefix = song.removeprefix(f'{artist}_')\n",
    "        song_title = rem_prefix.removesuffix('.txt')\n",
    "\n",
    "        # Open and read the contents of the file (song)\n",
    "        with open(song_path, 'r') as file:\n",
    "            contents = file.read()\n",
    "            # Prepare data to add to dataframe\n",
    "            data = {'artist': artist, 'song': song_title, 'lyrics': contents}\n",
    "            # The df.append() function is deprecated, so we will ignore warnings here\n",
    "            with warnings.catch_warnings():\n",
    "                warnings.simplefilter('ignore')\n",
    "                # Append row of data to lyrics_df\n",
    "                lyrics_data = lyrics_data.append(data, ignore_index=True)"
   ]
  },
  {
   "cell_type": "code",
   "execution_count": 202,
   "id": "9d9b919e-644d-4fc3-ac3e-30fb5f3f4de1",
   "metadata": {},
   "outputs": [
    {
     "data": {
      "text/html": [
       "<div>\n",
       "<style scoped>\n",
       "    .dataframe tbody tr th:only-of-type {\n",
       "        vertical-align: middle;\n",
       "    }\n",
       "\n",
       "    .dataframe tbody tr th {\n",
       "        vertical-align: top;\n",
       "    }\n",
       "\n",
       "    .dataframe thead th {\n",
       "        text-align: right;\n",
       "    }\n",
       "</style>\n",
       "<table border=\"1\" class=\"dataframe\">\n",
       "  <thead>\n",
       "    <tr style=\"text-align: right;\">\n",
       "      <th></th>\n",
       "      <th>artist</th>\n",
       "      <th>song</th>\n",
       "      <th>lyrics</th>\n",
       "    </tr>\n",
       "  </thead>\n",
       "  <tbody>\n",
       "    <tr>\n",
       "      <th>0</th>\n",
       "      <td>robyn</td>\n",
       "      <td>includemeout</td>\n",
       "      <td>\"Include Me Out\"\\n\\n\\n\\nIt is really very simp...</td>\n",
       "    </tr>\n",
       "    <tr>\n",
       "      <th>1</th>\n",
       "      <td>robyn</td>\n",
       "      <td>electric</td>\n",
       "      <td>\"Electric\"\\n\\n\\n\\nElectric...\\n\\nIt's electric...</td>\n",
       "    </tr>\n",
       "    <tr>\n",
       "      <th>2</th>\n",
       "      <td>robyn</td>\n",
       "      <td>beach2k20</td>\n",
       "      <td>\"Beach 2K20\"\\n\\n\\n\\n(So you wanna go out?\\nHow...</td>\n",
       "    </tr>\n",
       "    <tr>\n",
       "      <th>3</th>\n",
       "      <td>robyn</td>\n",
       "      <td>lovekills</td>\n",
       "      <td>\"Love Kills\"\\n\\n\\n\\nIf you're looking for love...</td>\n",
       "    </tr>\n",
       "    <tr>\n",
       "      <th>4</th>\n",
       "      <td>robyn</td>\n",
       "      <td>timemachine</td>\n",
       "      <td>\"Time Machine\"\\n\\n\\n\\nHey, what did I do?\\nCan...</td>\n",
       "    </tr>\n",
       "  </tbody>\n",
       "</table>\n",
       "</div>"
      ],
      "text/plain": [
       "  artist          song                                             lyrics\n",
       "0  robyn  includemeout  \"Include Me Out\"\\n\\n\\n\\nIt is really very simp...\n",
       "1  robyn      electric  \"Electric\"\\n\\n\\n\\nElectric...\\n\\nIt's electric...\n",
       "2  robyn     beach2k20  \"Beach 2K20\"\\n\\n\\n\\n(So you wanna go out?\\nHow...\n",
       "3  robyn     lovekills  \"Love Kills\"\\n\\n\\n\\nIf you're looking for love...\n",
       "4  robyn   timemachine  \"Time Machine\"\\n\\n\\n\\nHey, what did I do?\\nCan..."
      ]
     },
     "execution_count": 202,
     "metadata": {},
     "output_type": "execute_result"
    }
   ],
   "source": [
    "# View lyrics_data dataframe\n",
    "lyrics_data.head()"
   ]
  },
  {
   "cell_type": "code",
   "execution_count": 204,
   "id": "debcac5a",
   "metadata": {},
   "outputs": [],
   "source": [
    "# Read in the twitter data\n",
    "# Read cher twitter data\n",
    "twitter_data = pd.read_csv(data_location + twitter_folder + artist_files['cher'],\n",
    "                           sep=\"\\t\",\n",
    "                           quoting=3)\n",
    "\n",
    "twitter_data['artist'] = \"cher\"\n",
    "\n",
    "# Read robyn twitter data\n",
    "twitter_data_2 = pd.read_csv(data_location + twitter_folder + artist_files['robyn'],\n",
    "                             sep=\"\\t\",\n",
    "                             quoting=3)\n",
    "twitter_data_2['artist'] = \"robyn\"\n",
    "\n",
    "# Concat twitter dataframes\n",
    "twitter_data = pd.concat([\n",
    "    twitter_data,twitter_data_2])\n",
    "    \n",
    "del(twitter_data_2)"
   ]
  },
  {
   "cell_type": "code",
   "execution_count": 205,
   "id": "56f45902-9613-47ef-9c2a-bb849810fa8f",
   "metadata": {},
   "outputs": [],
   "source": [
    "# Keep only artist and description columns\n",
    "twitter_data = twitter_data[['description', 'artist']]"
   ]
  },
  {
   "cell_type": "code",
   "execution_count": 163,
   "id": "af9e7a4b",
   "metadata": {},
   "outputs": [
    {
     "data": {
      "text/html": [
       "<div>\n",
       "<style scoped>\n",
       "    .dataframe tbody tr th:only-of-type {\n",
       "        vertical-align: middle;\n",
       "    }\n",
       "\n",
       "    .dataframe tbody tr th {\n",
       "        vertical-align: top;\n",
       "    }\n",
       "\n",
       "    .dataframe thead th {\n",
       "        text-align: right;\n",
       "    }\n",
       "</style>\n",
       "<table border=\"1\" class=\"dataframe\">\n",
       "  <thead>\n",
       "    <tr style=\"text-align: right;\">\n",
       "      <th></th>\n",
       "      <th>word</th>\n",
       "      <th>score</th>\n",
       "    </tr>\n",
       "  </thead>\n",
       "  <tbody>\n",
       "    <tr>\n",
       "      <th>0</th>\n",
       "      <td>a+</td>\n",
       "      <td>1</td>\n",
       "    </tr>\n",
       "    <tr>\n",
       "      <th>1</th>\n",
       "      <td>abound</td>\n",
       "      <td>1</td>\n",
       "    </tr>\n",
       "    <tr>\n",
       "      <th>2</th>\n",
       "      <td>abounds</td>\n",
       "      <td>1</td>\n",
       "    </tr>\n",
       "    <tr>\n",
       "      <th>3</th>\n",
       "      <td>abundance</td>\n",
       "      <td>1</td>\n",
       "    </tr>\n",
       "    <tr>\n",
       "      <th>4</th>\n",
       "      <td>abundant</td>\n",
       "      <td>1</td>\n",
       "    </tr>\n",
       "    <tr>\n",
       "      <th>...</th>\n",
       "      <td>...</td>\n",
       "      <td>...</td>\n",
       "    </tr>\n",
       "    <tr>\n",
       "      <th>15128</th>\n",
       "      <td>win</td>\n",
       "      <td>1</td>\n",
       "    </tr>\n",
       "    <tr>\n",
       "      <th>15129</th>\n",
       "      <td>winner</td>\n",
       "      <td>1</td>\n",
       "    </tr>\n",
       "    <tr>\n",
       "      <th>15130</th>\n",
       "      <td>winners</td>\n",
       "      <td>1</td>\n",
       "    </tr>\n",
       "    <tr>\n",
       "      <th>15131</th>\n",
       "      <td>winning</td>\n",
       "      <td>1</td>\n",
       "    </tr>\n",
       "    <tr>\n",
       "      <th>15132</th>\n",
       "      <td>worthy</td>\n",
       "      <td>1</td>\n",
       "    </tr>\n",
       "  </tbody>\n",
       "</table>\n",
       "<p>21922 rows × 2 columns</p>\n",
       "</div>"
      ],
      "text/plain": [
       "            word  score\n",
       "0             a+      1\n",
       "1         abound      1\n",
       "2        abounds      1\n",
       "3      abundance      1\n",
       "4       abundant      1\n",
       "...          ...    ...\n",
       "15128        win      1\n",
       "15129     winner      1\n",
       "15130    winners      1\n",
       "15131    winning      1\n",
       "15132     worthy      1\n",
       "\n",
       "[21922 rows x 2 columns]"
      ]
     },
     "execution_count": 163,
     "metadata": {},
     "output_type": "execute_result"
    }
   ],
   "source": [
    "# Read in the positive and negative words and the\n",
    "# tidytext sentiment. Store these so that the positive\n",
    "# words are associated with a score of +1 and negative words\n",
    "# are associated with a score of -1. You can use a dataframe or a \n",
    "# dictionary for this.\n",
    "\n",
    "# Read positive words and add score column\n",
    "pos_words = pd.read_csv('positive-words.txt', delimiter='\\t', skiprows=35, header=None)\n",
    "pos_words['score'] = 1\n",
    "pos_words.columns.values[0] = 'word'\n",
    "\n",
    "# Read negative words and add score column\n",
    "neg_words = pd.read_csv('negative-words.txt', delimiter='\\t', skiprows=35, header=None)\n",
    "neg_words['score'] = -1\n",
    "neg_words.columns.values[0] = 'word'\n",
    "\n",
    "# Read tidytext sentiment\n",
    "tidytext = pd.read_csv('tidytext_sentiments.txt', delimiter='\\t')\n",
    "tidytext.drop(columns='lexicon', inplace=True)\n",
    "# Replace sentiment with -1 and 1\n",
    "tidytext['score'] = tidytext['sentiment'].apply(lambda x: -1 if x == 'negative' else 1)\n",
    "tidytext.drop(columns='sentiment', inplace=True)\n",
    "\n",
    "# Combine dataframes\n",
    "words = pd.concat([pos_words, neg_words, tidytext])\n",
    "words"
   ]
  },
  {
   "cell_type": "code",
   "execution_count": 208,
   "id": "9b1f6f47-5b75-441f-9d1f-3ae881282adf",
   "metadata": {},
   "outputs": [
    {
     "data": {
      "text/html": [
       "<div>\n",
       "<style scoped>\n",
       "    .dataframe tbody tr th:only-of-type {\n",
       "        vertical-align: middle;\n",
       "    }\n",
       "\n",
       "    .dataframe tbody tr th {\n",
       "        vertical-align: top;\n",
       "    }\n",
       "\n",
       "    .dataframe thead th {\n",
       "        text-align: right;\n",
       "    }\n",
       "</style>\n",
       "<table border=\"1\" class=\"dataframe\">\n",
       "  <thead>\n",
       "    <tr style=\"text-align: right;\">\n",
       "      <th></th>\n",
       "      <th>description</th>\n",
       "      <th>artist</th>\n",
       "    </tr>\n",
       "  </thead>\n",
       "  <tbody>\n",
       "    <tr>\n",
       "      <th>0</th>\n",
       "      <td>NaN</td>\n",
       "      <td>cher</td>\n",
       "    </tr>\n",
       "    <tr>\n",
       "      <th>1</th>\n",
       "      <td>𝙿𝚛𝚘𝚞𝚍 𝚜𝚞𝚙𝚙𝚘𝚛𝚝𝚎𝚛 𝚘𝚏 𝚖𝚎𝚜𝚜𝚢 𝚋𝚞𝚗𝚜 &amp; 𝚕𝚎𝚐𝚐𝚒𝚗𝚐𝚜</td>\n",
       "      <td>cher</td>\n",
       "    </tr>\n",
       "    <tr>\n",
       "      <th>2</th>\n",
       "      <td>163㎝／愛かっぷ💜26歳🍒 工〇好きな女の子💓 フォローしてくれたらDMします🧡</td>\n",
       "      <td>cher</td>\n",
       "    </tr>\n",
       "    <tr>\n",
       "      <th>3</th>\n",
       "      <td>csu</td>\n",
       "      <td>cher</td>\n",
       "    </tr>\n",
       "    <tr>\n",
       "      <th>4</th>\n",
       "      <td>Writer @Washinformer @SpelmanCollege alumna #D...</td>\n",
       "      <td>cher</td>\n",
       "    </tr>\n",
       "  </tbody>\n",
       "</table>\n",
       "</div>"
      ],
      "text/plain": [
       "                                         description artist\n",
       "0                                                NaN   cher\n",
       "1           𝙿𝚛𝚘𝚞𝚍 𝚜𝚞𝚙𝚙𝚘𝚛𝚝𝚎𝚛 𝚘𝚏 𝚖𝚎𝚜𝚜𝚢 𝚋𝚞𝚗𝚜 & 𝚕𝚎𝚐𝚐𝚒𝚗𝚐𝚜   cher\n",
       "2          163㎝／愛かっぷ💜26歳🍒 工〇好きな女の子💓 フォローしてくれたらDMします🧡   cher\n",
       "3                                                csu   cher\n",
       "4  Writer @Washinformer @SpelmanCollege alumna #D...   cher"
      ]
     },
     "execution_count": 208,
     "metadata": {},
     "output_type": "execute_result"
    }
   ],
   "source": [
    "# View twitter_data dataframe\n",
    "twitter_data.head()"
   ]
  },
  {
   "cell_type": "markdown",
   "id": "6a5f3b12",
   "metadata": {},
   "source": [
    "## Sentiment Analysis on Songs\n",
    "\n",
    "In this section, score the sentiment for all the songs for both artists in your data set. Score the sentiment by manually calculating the sentiment using the combined lexicons provided in this repository. \n",
    "\n",
    "After you have calculated these sentiments, answer the questions at the end of this section.\n"
   ]
  },
  {
   "cell_type": "code",
   "execution_count": 210,
   "id": "48144172-2b79-4d27-b509-761ebc5754ef",
   "metadata": {},
   "outputs": [],
   "source": [
    "# Punctuation\n",
    "punctuation = set(punctuation) # speeds up comparison\n",
    "\n",
    "# Stopwords\n",
    "sw = stopwords.words(\"english\")\n",
    "\n",
    "# Removes stopwords\n",
    "def remove_stop(tokens):\n",
    "    \n",
    "    tokens = [word for word in tokens if word not in sw]\n",
    "    \n",
    "    return(tokens)\n",
    " \n",
    "# Removes punctuation\n",
    "def remove_punctuation(text, punct_set=punctuation): \n",
    "    \n",
    "    return(\"\".join([ch for ch in text if ch not in punct_set]))\n",
    "\n",
    "# Tokenizes the text\n",
    "def tokenize(text):     \n",
    "    \n",
    "    return text.split()\n",
    "\n",
    "# Create function to calculate sentiment score\n",
    "def calculate_score(text): \n",
    "\n",
    "    # Lower case\n",
    "    text = str.lower(text)\n",
    "\n",
    "    # Remove punctuation\n",
    "    text = remove_punctuation(text)\n",
    "\n",
    "    # Tokenize text\n",
    "    tokens = tokenize(text)\n",
    "\n",
    "    # Remove stopwords\n",
    "    tokens = remove_stop(tokens)\n",
    "\n",
    "    # sentiment_score will contain the total of sentiments for words found in the lexicon per song\n",
    "    sentiment_score = 0\n",
    "    # counter will contain the number of words that were actually found in the lexicon\n",
    "    counter = 0\n",
    "\n",
    "    # Add sentiments for words found in lexicon\n",
    "    for word in tokens:\n",
    "        if word in words['word'].values:\n",
    "            counter += 1\n",
    "            score = words.loc[words['word'] == word, 'score'].values[0]\n",
    "            sentiment_score += score\n",
    "\n",
    "    # Return average sentiment of the song, and return 0 if no words were found in the lexicon\n",
    "    try:        \n",
    "        return sentiment_score / counter\n",
    "    except ZeroDivisionError:\n",
    "        return 0"
   ]
  },
  {
   "cell_type": "code",
   "execution_count": 212,
   "id": "664f8d8f",
   "metadata": {},
   "outputs": [],
   "source": [
    "# Calculate sentiment scores for lyrics_data\n",
    "lyrics_data['sentiment_score'] = lyrics_data['lyrics'].apply(calculate_score)"
   ]
  },
  {
   "cell_type": "code",
   "execution_count": 213,
   "id": "27d4a542-a900-4646-931c-f23c77945ac5",
   "metadata": {},
   "outputs": [
    {
     "data": {
      "text/plain": [
       "artist\n",
       "cher     0.181567\n",
       "robyn    0.282513\n",
       "Name: sentiment_score, dtype: float64"
      ]
     },
     "execution_count": 213,
     "metadata": {},
     "output_type": "execute_result"
    }
   ],
   "source": [
    "# Find average sentiment score by artist\n",
    "lyrics_avg = lyrics_data.groupby('artist')['sentiment_score'].mean()\n",
    "lyrics_avg"
   ]
  },
  {
   "cell_type": "markdown",
   "id": "8e523b0d-f723-492b-8eb2-84bb6bfdcd71",
   "metadata": {},
   "source": [
    "Q: Overall, which artist has the higher average sentiment per song? \n",
    "\n",
    "A: Overall, Robyn has the highest average sentiment per song. The average for Robyn is 0.283 and the average for Cher is 0.182."
   ]
  },
  {
   "cell_type": "code",
   "execution_count": 238,
   "id": "fc669c2b-c2a9-414b-8aaa-46138d4d072a",
   "metadata": {},
   "outputs": [
    {
     "data": {
      "text/html": [
       "<div>\n",
       "<style scoped>\n",
       "    .dataframe tbody tr th:only-of-type {\n",
       "        vertical-align: middle;\n",
       "    }\n",
       "\n",
       "    .dataframe tbody tr th {\n",
       "        vertical-align: top;\n",
       "    }\n",
       "\n",
       "    .dataframe thead th {\n",
       "        text-align: right;\n",
       "    }\n",
       "</style>\n",
       "<table border=\"1\" class=\"dataframe\">\n",
       "  <thead>\n",
       "    <tr style=\"text-align: right;\">\n",
       "      <th></th>\n",
       "      <th>artist</th>\n",
       "      <th>song</th>\n",
       "      <th>lyrics</th>\n",
       "      <th>sentiment_score</th>\n",
       "    </tr>\n",
       "  </thead>\n",
       "  <tbody>\n",
       "    <tr>\n",
       "      <th>119</th>\n",
       "      <td>cher</td>\n",
       "      <td>mylove</td>\n",
       "      <td>\"My Love\"\\n\\n\\n\\nWhen I go away\\nI know my heart can stay with my love\\nIt's understood\\nEverywhere with my love\\nMy love does it good, whoa\\nMy love, oh only my love\\nMy love does it good\\n\\nAnd when the cupboard's bare\\nI'll still find something there with my love\\nIt's understood\\nEverywhere with my love\\nMy love does it so good, whoa\\nMy love, oh only my love\\nMy love does it good\\n\\nOnly my love, oh only my love\\nOnly my love, hold the other things to me\\nOh, only my love, oh only my love\\nOnly my love does it good to me\\n\\nEverywhere with my love\\nDon't you see my love\\nIt does it so good\\nOh, only my love, only my love\\nMy love does it good\\n\\nDon't ever ask me why\\nI never say \"good-bye\" to my love\\nIt's understood\\n'Cause everywhere with my love\\nMy love does it good, whoa\\nOnly my love, oh only my love\\nMy love does it good\\n\\nOh only my love\\nOnly my love does it good to me,whoa\\n</td>\n",
       "      <td>0.956522</td>\n",
       "    </tr>\n",
       "    <tr>\n",
       "      <th>407</th>\n",
       "      <td>cher</td>\n",
       "      <td>youwouldntknowlove</td>\n",
       "      <td>\"You Wouldn't Know Love\"\\n\\n\\n\\nSo now you're back\\nSo you had your fun\\nAnd now you're coming around again\\nSure baby, I should let you in\\nSo you can let me down again\\nWell, it doesn't really matter\\nWhat you say or do\\nYou can tell me that you love me\\nBut I know it ain't true\\n\\n'Cause you wouldn't know love\\nIf it knocked down your door\\nYou wouldn't know it now\\nYou never knew it before\\nIf it landed in your hands\\nFrom the Heavens above\\nYou wouldn't know love\\n(You wouldn't know love)\\nNo, you wouldn't know love\\n\\nSaid you changed\\nSaid you done me wrong\\nBut you won't do it anymore\\nNo darling, I don't have to tell you\\nWhere I heard that line before\\nBaby, you would say anything\\nTo get back into my heart\\nWhen it comes to loving\\nYou don't even know where to start\\n\\n'Cause you wouldn't know love\\nIf it knocked down your door\\nYou wouldn't know it now\\nYou never knew it before\\nIf it landed in your hands\\nFrom the Heavens above\\nYou wouldn't know love\\n(You wouldn't know love)\\nNo, you wouldn't know love\\n\\nDid you think that I would believe\\nAnything that you said\\nLet you come back to me\\nBaby, there's just no way\\nBaby, I've had enough\\nAnd you wouldn't know love\\n\\n  (You wouldn't know love)\\nYou wouldn't know love\\nIf it knocked down your door\\nYou wouldn't know it now\\nYou never knew it before\\nIf it landed in your hands\\nFrom the Heavens above\\nYou wouldn't know love\\n(You wouldn't know love)\\nNo, you wouldn't know love\\n(You wouldn't know love)\\nYou wouldn't know love\\n\\nYou wouldn't know love\\nIf it knocked down your door\\nYou wouldn't know it now\\nYou never knew it before\\nIf it landed in your hands\\nFrom the Heavens above\\nYou wouldn't know love\\n(You wouldn't know love)\\nNo, you wouldn't know love\\n\\nYou wouldn't know love\\nIf it knocked down your door\\nYou wouldn't know it now\\nYou never knew it before\\nIf it landed in your hands\\nFrom the Heavens above\\n</td>\n",
       "      <td>0.954545</td>\n",
       "    </tr>\n",
       "    <tr>\n",
       "      <th>355</th>\n",
       "      <td>cher</td>\n",
       "      <td>mylove318663</td>\n",
       "      <td>\"My Love\"\\n\\n\\n\\nI heard you wanna be somebody\\nBut you're already shining on me\\nShe tried to make you feel so lonely\\nBut you can be my one and only love\\nMy love, my love\\nYou can be my love\\nMy love, my love\\n\\nYou've got the dreams to go on\\nTake a step and look towards the sun\\nIt doesn't matter where you've come from\\nHere is where youâll always be the one\\nMy love, my love\\n\\nYou're not alone\\n'Cause I found a place where you can belong\\nSomewhere you know you can run to\\nSo if you need me to hold you\\nYou can be my love\\n\\nIf you could only see what I see\\nI'm dazzled by the beauty in front of me\\nSo if you want to know how I feel\\nI feel like you were meant to be my love\\nMy love, my love\\n\\nYou're not alone\\n'Cause I found a place where you can belong\\nSomewhere you know you can run to\\nSo if you need me to hold you\\nYou can be my love\\n\\nYou can be my love\\nYou can be my love\\nYou can be my love\\nYou can be my love\\n\\nSomewhere you know you can run to\\nSo if you need me to hold you\\nYou can be my love\\n\\n(My love, my love, my love)\\n\\nSomewhere you know you can run to\\nSo if you need me to hold you\\nYou can be my love\\n\\nI know you wanna be somebody\\nYou can take you're time you're with me\\nI can feel your heart beat through me\\nFeel like you were meant to be my love\\nMy love, my love\\nYou can be my love\\nMy love, my love\\n</td>\n",
       "      <td>0.947368</td>\n",
       "    </tr>\n",
       "  </tbody>\n",
       "</table>\n",
       "</div>"
      ],
      "text/plain": [
       "    artist                song  \\\n",
       "119   cher              mylove   \n",
       "407   cher  youwouldntknowlove   \n",
       "355   cher        mylove318663   \n",
       "\n",
       "                                                                                                                                                                                                                                                                                                                                                                                                                                                                                                                                                                                                                                                                                                                                                                                                                                                                                                                                                                                                                                                                                                                                                                                                                                                                                                                                                                                                                                                                                                                                                                                                                                                                                                                                                                                                                                                                                                                                                                                        lyrics  \\\n",
       "119                                                                                                                                                                                                                                                                                                                                                                                                                                                                                                                                                                                                                                                                                                                                                                                                                                                                                                                                                                                                                                                   \"My Love\"\\n\\n\\n\\nWhen I go away\\nI know my heart can stay with my love\\nIt's understood\\nEverywhere with my love\\nMy love does it good, whoa\\nMy love, oh only my love\\nMy love does it good\\n\\nAnd when the cupboard's bare\\nI'll still find something there with my love\\nIt's understood\\nEverywhere with my love\\nMy love does it so good, whoa\\nMy love, oh only my love\\nMy love does it good\\n\\nOnly my love, oh only my love\\nOnly my love, hold the other things to me\\nOh, only my love, oh only my love\\nOnly my love does it good to me\\n\\nEverywhere with my love\\nDon't you see my love\\nIt does it so good\\nOh, only my love, only my love\\nMy love does it good\\n\\nDon't ever ask me why\\nI never say \"good-bye\" to my love\\nIt's understood\\n'Cause everywhere with my love\\nMy love does it good, whoa\\nOnly my love, oh only my love\\nMy love does it good\\n\\nOh only my love\\nOnly my love does it good to me,whoa\\n   \n",
       "407  \"You Wouldn't Know Love\"\\n\\n\\n\\nSo now you're back\\nSo you had your fun\\nAnd now you're coming around again\\nSure baby, I should let you in\\nSo you can let me down again\\nWell, it doesn't really matter\\nWhat you say or do\\nYou can tell me that you love me\\nBut I know it ain't true\\n\\n'Cause you wouldn't know love\\nIf it knocked down your door\\nYou wouldn't know it now\\nYou never knew it before\\nIf it landed in your hands\\nFrom the Heavens above\\nYou wouldn't know love\\n(You wouldn't know love)\\nNo, you wouldn't know love\\n\\nSaid you changed\\nSaid you done me wrong\\nBut you won't do it anymore\\nNo darling, I don't have to tell you\\nWhere I heard that line before\\nBaby, you would say anything\\nTo get back into my heart\\nWhen it comes to loving\\nYou don't even know where to start\\n\\n'Cause you wouldn't know love\\nIf it knocked down your door\\nYou wouldn't know it now\\nYou never knew it before\\nIf it landed in your hands\\nFrom the Heavens above\\nYou wouldn't know love\\n(You wouldn't know love)\\nNo, you wouldn't know love\\n\\nDid you think that I would believe\\nAnything that you said\\nLet you come back to me\\nBaby, there's just no way\\nBaby, I've had enough\\nAnd you wouldn't know love\\n\\n  (You wouldn't know love)\\nYou wouldn't know love\\nIf it knocked down your door\\nYou wouldn't know it now\\nYou never knew it before\\nIf it landed in your hands\\nFrom the Heavens above\\nYou wouldn't know love\\n(You wouldn't know love)\\nNo, you wouldn't know love\\n(You wouldn't know love)\\nYou wouldn't know love\\n\\nYou wouldn't know love\\nIf it knocked down your door\\nYou wouldn't know it now\\nYou never knew it before\\nIf it landed in your hands\\nFrom the Heavens above\\nYou wouldn't know love\\n(You wouldn't know love)\\nNo, you wouldn't know love\\n\\nYou wouldn't know love\\nIf it knocked down your door\\nYou wouldn't know it now\\nYou never knew it before\\nIf it landed in your hands\\nFrom the Heavens above\\n   \n",
       "355                                                                                                                                                                                                                                                                                                                                                                                                                                                                                                                                                                            \"My Love\"\\n\\n\\n\\nI heard you wanna be somebody\\nBut you're already shining on me\\nShe tried to make you feel so lonely\\nBut you can be my one and only love\\nMy love, my love\\nYou can be my love\\nMy love, my love\\n\\nYou've got the dreams to go on\\nTake a step and look towards the sun\\nIt doesn't matter where you've come from\\nHere is where youâll always be the one\\nMy love, my love\\n\\nYou're not alone\\n'Cause I found a place where you can belong\\nSomewhere you know you can run to\\nSo if you need me to hold you\\nYou can be my love\\n\\nIf you could only see what I see\\nI'm dazzled by the beauty in front of me\\nSo if you want to know how I feel\\nI feel like you were meant to be my love\\nMy love, my love\\n\\nYou're not alone\\n'Cause I found a place where you can belong\\nSomewhere you know you can run to\\nSo if you need me to hold you\\nYou can be my love\\n\\nYou can be my love\\nYou can be my love\\nYou can be my love\\nYou can be my love\\n\\nSomewhere you know you can run to\\nSo if you need me to hold you\\nYou can be my love\\n\\n(My love, my love, my love)\\n\\nSomewhere you know you can run to\\nSo if you need me to hold you\\nYou can be my love\\n\\nI know you wanna be somebody\\nYou can take you're time you're with me\\nI can feel your heart beat through me\\nFeel like you were meant to be my love\\nMy love, my love\\nYou can be my love\\nMy love, my love\\n   \n",
       "\n",
       "     sentiment_score  \n",
       "119         0.956522  \n",
       "407         0.954545  \n",
       "355         0.947368  "
      ]
     },
     "execution_count": 238,
     "metadata": {},
     "output_type": "execute_result"
    }
   ],
   "source": [
    "pd.set_option('display.max_colwidth', None)\n",
    "\n",
    "# Subset cher lyrics\n",
    "cher_lyrics = lyrics_data[lyrics_data['artist'] == 'cher']\n",
    "\n",
    "# Get the top 3 scores\n",
    "cher_top_3 = cher_lyrics.nlargest(3, 'sentiment_score')\n",
    "cher_top_3"
   ]
  },
  {
   "cell_type": "code",
   "execution_count": 240,
   "id": "94171b71-3cf3-4eb9-965c-a51d1a82c672",
   "metadata": {},
   "outputs": [
    {
     "data": {
      "text/html": [
       "<div>\n",
       "<style scoped>\n",
       "    .dataframe tbody tr th:only-of-type {\n",
       "        vertical-align: middle;\n",
       "    }\n",
       "\n",
       "    .dataframe tbody tr th {\n",
       "        vertical-align: top;\n",
       "    }\n",
       "\n",
       "    .dataframe thead th {\n",
       "        text-align: right;\n",
       "    }\n",
       "</style>\n",
       "<table border=\"1\" class=\"dataframe\">\n",
       "  <thead>\n",
       "    <tr style=\"text-align: right;\">\n",
       "      <th></th>\n",
       "      <th>artist</th>\n",
       "      <th>song</th>\n",
       "      <th>lyrics</th>\n",
       "      <th>sentiment_score</th>\n",
       "    </tr>\n",
       "  </thead>\n",
       "  <tbody>\n",
       "    <tr>\n",
       "      <th>219</th>\n",
       "      <td>cher</td>\n",
       "      <td>skindeep</td>\n",
       "      <td>\"Skin Deep\"\\n\\n\\n\\nYou came on to me a house of fire\\nOne look was all it took for my desire\\nI'm still burnin'\\nIt's the middle of the night\\nI need somethin'\\nThat can make me feel alright as I go\\n\\nSkin deep, to the bone\\nEvery time I see your face\\nSkin deep, to the bone\\nTellin' me that I'm in trouble\\nS.O.S.\\nI'm in distress, tonight\\n\\nKnock knock in the dark, what will I find?\\nYour eyes, hypnotize but can they read my mind\\nWatch your step now\\nWe're gettin' closer to the edge\\nThis is dangerous\\nAnd all the lights are flashin' red as I go\\n\\nSkin deep, to the bone\\nEvery time I see your face I go\\nSkin deep, to the bone\\nTellin' me that I'm in trouble\\n\\nSkin deep, to the bone\\nEvery time I hear your voice I go\\nSkin deep, to the bone\\nTellin' me that I'm in trouble\\nToo far gone\\nI can't hold on, tonight, not tonight\\n\\nSkin deep, skin deep\\nI'm still burnin'\\nIt's the middle of the night\\nI need someone\\nWho can make me feel alright as I go\\n\\nSkin deep, to the bone\\nEvery time I see your face I go\\nSkin deep, to the bone\\nTellin' me that I'm in trouble\\n\\nSkin deep, to the bone\\nEvery time I see your face I go\\nSkin deep, to the bone\\nTellin' me that I'm in trouble\\n\\nSkin deep, to the bone\\nEvery time I hear your voice I go\\nSkin deep, to the bone\\nTellin' me that I'm in trouble\\nSkin deep, to the bone\\n</td>\n",
       "      <td>-1.000000</td>\n",
       "    </tr>\n",
       "    <tr>\n",
       "      <th>324</th>\n",
       "      <td>cher</td>\n",
       "      <td>chiquititaspanishversion</td>\n",
       "      <td>\"Chiquitita (Spanish Version)\"\\n\\n\\n\\nChiquitita, dime por quÃ©\\nTu dolor hoy te encadena\\nEn tus ojos hay, una sombra de gran pena\\nNo quisiera verte asÃ­\\nAunque quieras disimularlo\\nSi es que tan triste estÃ¡s para quÃ© quieres callarlo\\n\\nChiquitita, dÃ­melo tu\\nEn mi hombro, aquÃ­ llorando\\nCuenta conmigo ya, para asÃ­ seguir andando\\nTan segura te conocÃ­\\nY ahora tu ala quebrada\\nDÃ©jamela arreglar, yo la quiero ver curada\\n\\nChiquitita, sabes muy bien\\nQue las penas vienen y van y desaparecen\\nOtra vez vas a bailar\\nY serÃ¡s feliz\\nComo flores que florecen\\nChiquitita, no hay que llorar\\nLas estrellas brillan por ti allÃ¡ en lo alto\\nQuiero verte sonreÃ­r\\nPara compartir\\nTu alegrÃ­a, Chiquitita\\nOtra vez quiero compartir\\nTu alegrÃ­a, Chiquitita\\n\\nChiquitita, no hay que llorar\\nQuiero verte sonreÃ­r\\nPara compartir tu alegrÃ­a\\nHey, Chiquitita\\n\\nChiquitita, sabes muy bien\\nQue las penas vienen y van y desaparecen\\nOtra vez vas a bailar\\nY serÃ¡s feliz\\nComo flores que florecen\\nChiquitita, no hay que llorar\\nLas estrellas brillan por ti allÃ¡ en lo alto\\nQuiero verte sonreÃ­r\\nPara compartir\\nTu alegrÃ­a, Chiquitita\\nOtra vez quiero compartir\\nTu alegrÃ­a, Chiquitita\\nOtra vez quiero compartir\\nTu alegrÃ­a, Chiquitita\\n</td>\n",
       "      <td>-1.000000</td>\n",
       "    </tr>\n",
       "    <tr>\n",
       "      <th>344</th>\n",
       "      <td>cher</td>\n",
       "      <td>crymyselftosleep</td>\n",
       "      <td>\"Cry Myself To Sleep\"\\n\\n\\n\\nEvery night, I lay my head\\nOn my pillow on my bed\\nAnd I just cry myself to sleep\\n\\nI know I shouldn't cry\\nOver words that were all lies\\nBut still, I cry myself to sleep\\n\\nEach night, I fight the tears\\nBut still they fall\\nAnd all the memories linger on\\nHe's gone, he's gone\\nAnd now there's nothing but to cry\\nCry myself to sleep\\nStill, I cry myself to sleep\\n\\nEach night, I fight those tears\\nBut still, they fall\\nAnd all the memories linger on\\nHe's gone, he's gone, he's gone\\nAnd now there's nothing but to cry\\nAh, cry myself to sleep\\nAh, cry myself to sleep\\nAh, cry myself to sleep\\n</td>\n",
       "      <td>-0.888889</td>\n",
       "    </tr>\n",
       "  </tbody>\n",
       "</table>\n",
       "</div>"
      ],
      "text/plain": [
       "    artist                      song  \\\n",
       "219   cher                  skindeep   \n",
       "324   cher  chiquititaspanishversion   \n",
       "344   cher          crymyselftosleep   \n",
       "\n",
       "                                                                                                                                                                                                                                                                                                                                                                                                                                                                                                                                                                                                                                                                                                                                                                                                                                                                                                                                                                                                                                                                                                                                                                                                                                                                                                                                                                                           lyrics  \\\n",
       "219  \"Skin Deep\"\\n\\n\\n\\nYou came on to me a house of fire\\nOne look was all it took for my desire\\nI'm still burnin'\\nIt's the middle of the night\\nI need somethin'\\nThat can make me feel alright as I go\\n\\nSkin deep, to the bone\\nEvery time I see your face\\nSkin deep, to the bone\\nTellin' me that I'm in trouble\\nS.O.S.\\nI'm in distress, tonight\\n\\nKnock knock in the dark, what will I find?\\nYour eyes, hypnotize but can they read my mind\\nWatch your step now\\nWe're gettin' closer to the edge\\nThis is dangerous\\nAnd all the lights are flashin' red as I go\\n\\nSkin deep, to the bone\\nEvery time I see your face I go\\nSkin deep, to the bone\\nTellin' me that I'm in trouble\\n\\nSkin deep, to the bone\\nEvery time I hear your voice I go\\nSkin deep, to the bone\\nTellin' me that I'm in trouble\\nToo far gone\\nI can't hold on, tonight, not tonight\\n\\nSkin deep, skin deep\\nI'm still burnin'\\nIt's the middle of the night\\nI need someone\\nWho can make me feel alright as I go\\n\\nSkin deep, to the bone\\nEvery time I see your face I go\\nSkin deep, to the bone\\nTellin' me that I'm in trouble\\n\\nSkin deep, to the bone\\nEvery time I see your face I go\\nSkin deep, to the bone\\nTellin' me that I'm in trouble\\n\\nSkin deep, to the bone\\nEvery time I hear your voice I go\\nSkin deep, to the bone\\nTellin' me that I'm in trouble\\nSkin deep, to the bone\\n   \n",
       "324                                                                                            \"Chiquitita (Spanish Version)\"\\n\\n\\n\\nChiquitita, dime por quÃ©\\nTu dolor hoy te encadena\\nEn tus ojos hay, una sombra de gran pena\\nNo quisiera verte asÃ­\\nAunque quieras disimularlo\\nSi es que tan triste estÃ¡s para quÃ© quieres callarlo\\n\\nChiquitita, dÃ­melo tu\\nEn mi hombro, aquÃ­ llorando\\nCuenta conmigo ya, para asÃ­ seguir andando\\nTan segura te conocÃ­\\nY ahora tu ala quebrada\\nDÃ©jamela arreglar, yo la quiero ver curada\\n\\nChiquitita, sabes muy bien\\nQue las penas vienen y van y desaparecen\\nOtra vez vas a bailar\\nY serÃ¡s feliz\\nComo flores que florecen\\nChiquitita, no hay que llorar\\nLas estrellas brillan por ti allÃ¡ en lo alto\\nQuiero verte sonreÃ­r\\nPara compartir\\nTu alegrÃ­a, Chiquitita\\nOtra vez quiero compartir\\nTu alegrÃ­a, Chiquitita\\n\\nChiquitita, no hay que llorar\\nQuiero verte sonreÃ­r\\nPara compartir tu alegrÃ­a\\nHey, Chiquitita\\n\\nChiquitita, sabes muy bien\\nQue las penas vienen y van y desaparecen\\nOtra vez vas a bailar\\nY serÃ¡s feliz\\nComo flores que florecen\\nChiquitita, no hay que llorar\\nLas estrellas brillan por ti allÃ¡ en lo alto\\nQuiero verte sonreÃ­r\\nPara compartir\\nTu alegrÃ­a, Chiquitita\\nOtra vez quiero compartir\\nTu alegrÃ­a, Chiquitita\\nOtra vez quiero compartir\\nTu alegrÃ­a, Chiquitita\\n   \n",
       "344                                                                                                                                                                                                                                                                                                                                                                                                                                                                                                                                                                                                                                                                                                                                      \"Cry Myself To Sleep\"\\n\\n\\n\\nEvery night, I lay my head\\nOn my pillow on my bed\\nAnd I just cry myself to sleep\\n\\nI know I shouldn't cry\\nOver words that were all lies\\nBut still, I cry myself to sleep\\n\\nEach night, I fight the tears\\nBut still they fall\\nAnd all the memories linger on\\nHe's gone, he's gone\\nAnd now there's nothing but to cry\\nCry myself to sleep\\nStill, I cry myself to sleep\\n\\nEach night, I fight those tears\\nBut still, they fall\\nAnd all the memories linger on\\nHe's gone, he's gone, he's gone\\nAnd now there's nothing but to cry\\nAh, cry myself to sleep\\nAh, cry myself to sleep\\nAh, cry myself to sleep\\n   \n",
       "\n",
       "     sentiment_score  \n",
       "219        -1.000000  \n",
       "324        -1.000000  \n",
       "344        -0.888889  "
      ]
     },
     "execution_count": 240,
     "metadata": {},
     "output_type": "execute_result"
    }
   ],
   "source": [
    "# Get the bottom 3 scores\n",
    "cher_bottom_3 = cher_lyrics.nsmallest(3, 'sentiment_score')\n",
    "cher_bottom_3"
   ]
  },
  {
   "cell_type": "markdown",
   "id": "3d1f58b4-9f59-40ee-96d6-3ef8310f84c6",
   "metadata": {},
   "source": [
    "Q: For your first artist, what are the three songs that have the highest and lowest sentiments? Print the lyrics of those songs to the screen. What do you think is driving the sentiment score? \n",
    "\n",
    "A: Cher's top 3 and bottom 3 songs based on sentiment are printed above. For the positive sentiment songs (My Love, You Wouldn't Know Love, and My Love 318663), the lyrics include the word love repeatedly which probably drives the positive sentiment. For the negative sentiment songs (Skin Deep, Chiquititas Spanish version, and Cry Myself to Sleep), the lyrics include words such as fire, trouble, cry, dangerous, distress, and dark which drives the negative score. I think Chiquititas is mistakenly included in this list because it is in Spanish, so the sentiment is not accurately calculated."
   ]
  },
  {
   "cell_type": "code",
   "execution_count": 236,
   "id": "aef972fd-6736-443f-8d98-3ef56302c9c0",
   "metadata": {
    "scrolled": true
   },
   "outputs": [
    {
     "data": {
      "text/html": [
       "<div>\n",
       "<style scoped>\n",
       "    .dataframe tbody tr th:only-of-type {\n",
       "        vertical-align: middle;\n",
       "    }\n",
       "\n",
       "    .dataframe tbody tr th {\n",
       "        vertical-align: top;\n",
       "    }\n",
       "\n",
       "    .dataframe thead th {\n",
       "        text-align: right;\n",
       "    }\n",
       "</style>\n",
       "<table border=\"1\" class=\"dataframe\">\n",
       "  <thead>\n",
       "    <tr style=\"text-align: right;\">\n",
       "      <th></th>\n",
       "      <th>artist</th>\n",
       "      <th>song</th>\n",
       "      <th>lyrics</th>\n",
       "      <th>sentiment_score</th>\n",
       "    </tr>\n",
       "  </thead>\n",
       "  <tbody>\n",
       "    <tr>\n",
       "      <th>60</th>\n",
       "      <td>robyn</td>\n",
       "      <td>jagvetendejligrosa</td>\n",
       "      <td>\"Jag Vet En Dejlig Rosa\"\\n\\n\\n\\nJag vet en dejlig rosa och vit som liljeblad\\nNÃ¤r jag pÃ¥ henne tÃ¤nker sÃ¥ gÃ¶rs mitt hjÃ¤rta glad\\nDess stÃ¤mma ger en hjÃ¤rtans trÃ¶st\\nLik nÃ¤ktergalens blida rÃ¶st\\nSÃ¥ fager och sÃ¥ ljuv\\n\\nSom solen fagert skiner Ã¤r hon som purpur klar\\nGud lÃ¥t dig aldrig sÃ¶rja men alltid vara glad\\nMÃ¥ de fÃ¥ komma samman\\nMed hjÃ¤rtans frÃ¶jd och gamman\\nSom lÃ¤ngta till varann\\n\\nVar dag gÃ¥r solen neder och dagelig uppgÃ¥r\\nNÃ¤r kommer dagen blider att jag dig skÃ¥da fÃ¥r\\nI hÃ¥gen Ã¤r du jÃ¤mt mig nÃ¤r\\nFarvÃ¤l, farvÃ¤l min hjÃ¤rtans kÃ¤r\\nMÃ¥ngtusende godnatt\\n</td>\n",
       "      <td>1.0</td>\n",
       "    </tr>\n",
       "    <tr>\n",
       "      <th>64</th>\n",
       "      <td>robyn</td>\n",
       "      <td>babyforgiveme</td>\n",
       "      <td>\"Baby Forgive Me\"\\n\\n\\n\\nHere come the night\\nIn your eyes\\nBaby, be brave\\nBe wise\\nIt's up to you\\nYou do what you like, mmm\\nWon't you give it a chance, baby?\\nJust one more try\\n\\nBaby forgive me\\nBaby forgive me\\nBaby forgive me\\nBaby forgive me\\n\\n(Won't you give it a chance, baby?)\\nWon't you give it a chance, baby?\\nJust one more try\\nOne more try\\nYeah, eh\\n\\nYou got the power\\nYou set the price\\nBut baby, be fair\\nBe nice\\nYou say you want to be happy\\nThen you got to put your love on the line\\nJust let me make you smile again, baby\\nI know we can work it out\\nYes, I know we can\\n\\nBaby forgive me\\nYeah\\nBaby forgive me\\nBaby forgive me\\nBaby forgive me\\nBaby forgive me\\nBaby forgive me\\nBaby forgive me\\nBaby forgive me\\n</td>\n",
       "      <td>1.0</td>\n",
       "    </tr>\n",
       "    <tr>\n",
       "      <th>67</th>\n",
       "      <td>robyn</td>\n",
       "      <td>monument</td>\n",
       "      <td>\"Monument\"\\n\\n\\n\\nMake a space\\nFor my body\\nDig a hole\\nPush the sides apart\\nThis is what\\nI'm controlling\\nIt's a moat\\nThe inside that I carve\\n\\nThis will my monument\\nThis will be a beacon when I'm gone\\nGone, gone\\nWhen I'm gone\\nGone, gone\\nWhen I'm gone\\n\\nSo that when the moment comes\\nI can say I did it all with love\\nLove, love\\nAll with love\\nLove, love\\nAll with love\\n\\nMake a cast\\nOf my body\\nPull back out\\nSo that I can see\\nLet go of\\nHow you knew me\\nLet go of\\nWhat I used to be\\n\\nI will let this monument\\nRepresent a moment of my life\\nLife, life\\nOf my life\\nLife, life\\nOf my life\\n\\nI will let this monument\\nRepresent a moment of my life\\nLife, life\\nOf my life\\nLife, life\\nOf my life\\n\\nMake a cast\\nOf my body\\nPull back out\\nSo that I can see\\nLet go of\\nHow you knew me\\nLet go of\\nWhat I used to be\\n</td>\n",
       "      <td>1.0</td>\n",
       "    </tr>\n",
       "  </tbody>\n",
       "</table>\n",
       "</div>"
      ],
      "text/plain": [
       "   artist                song  \\\n",
       "60  robyn  jagvetendejligrosa   \n",
       "64  robyn       babyforgiveme   \n",
       "67  robyn            monument   \n",
       "\n",
       "                                                                                                                                                                                                                                                                                                                                                                                                                                                                                                                                                                                                                                                                                                                                                                                                                                                                   lyrics  \\\n",
       "60                                                                                                                                                                                                                                                \"Jag Vet En Dejlig Rosa\"\\n\\n\\n\\nJag vet en dejlig rosa och vit som liljeblad\\nNÃ¤r jag pÃ¥ henne tÃ¤nker sÃ¥ gÃ¶rs mitt hjÃ¤rta glad\\nDess stÃ¤mma ger en hjÃ¤rtans trÃ¶st\\nLik nÃ¤ktergalens blida rÃ¶st\\nSÃ¥ fager och sÃ¥ ljuv\\n\\nSom solen fagert skiner Ã¤r hon som purpur klar\\nGud lÃ¥t dig aldrig sÃ¶rja men alltid vara glad\\nMÃ¥ de fÃ¥ komma samman\\nMed hjÃ¤rtans frÃ¶jd och gamman\\nSom lÃ¤ngta till varann\\n\\nVar dag gÃ¥r solen neder och dagelig uppgÃ¥r\\nNÃ¤r kommer dagen blider att jag dig skÃ¥da fÃ¥r\\nI hÃ¥gen Ã¤r du jÃ¤mt mig nÃ¤r\\nFarvÃ¤l, farvÃ¤l min hjÃ¤rtans kÃ¤r\\nMÃ¥ngtusende godnatt\\n   \n",
       "64                                                                                                  \"Baby Forgive Me\"\\n\\n\\n\\nHere come the night\\nIn your eyes\\nBaby, be brave\\nBe wise\\nIt's up to you\\nYou do what you like, mmm\\nWon't you give it a chance, baby?\\nJust one more try\\n\\nBaby forgive me\\nBaby forgive me\\nBaby forgive me\\nBaby forgive me\\n\\n(Won't you give it a chance, baby?)\\nWon't you give it a chance, baby?\\nJust one more try\\nOne more try\\nYeah, eh\\n\\nYou got the power\\nYou set the price\\nBut baby, be fair\\nBe nice\\nYou say you want to be happy\\nThen you got to put your love on the line\\nJust let me make you smile again, baby\\nI know we can work it out\\nYes, I know we can\\n\\nBaby forgive me\\nYeah\\nBaby forgive me\\nBaby forgive me\\nBaby forgive me\\nBaby forgive me\\nBaby forgive me\\nBaby forgive me\\nBaby forgive me\\n   \n",
       "67  \"Monument\"\\n\\n\\n\\nMake a space\\nFor my body\\nDig a hole\\nPush the sides apart\\nThis is what\\nI'm controlling\\nIt's a moat\\nThe inside that I carve\\n\\nThis will my monument\\nThis will be a beacon when I'm gone\\nGone, gone\\nWhen I'm gone\\nGone, gone\\nWhen I'm gone\\n\\nSo that when the moment comes\\nI can say I did it all with love\\nLove, love\\nAll with love\\nLove, love\\nAll with love\\n\\nMake a cast\\nOf my body\\nPull back out\\nSo that I can see\\nLet go of\\nHow you knew me\\nLet go of\\nWhat I used to be\\n\\nI will let this monument\\nRepresent a moment of my life\\nLife, life\\nOf my life\\nLife, life\\nOf my life\\n\\nI will let this monument\\nRepresent a moment of my life\\nLife, life\\nOf my life\\nLife, life\\nOf my life\\n\\nMake a cast\\nOf my body\\nPull back out\\nSo that I can see\\nLet go of\\nHow you knew me\\nLet go of\\nWhat I used to be\\n   \n",
       "\n",
       "    sentiment_score  \n",
       "60              1.0  \n",
       "64              1.0  \n",
       "67              1.0  "
      ]
     },
     "execution_count": 236,
     "metadata": {},
     "output_type": "execute_result"
    }
   ],
   "source": [
    "# Subset robyn lyrics\n",
    "robyn_lyrics = lyrics_data[lyrics_data['artist'] == 'robyn']\n",
    "\n",
    "# Get the top 3 scores\n",
    "robyn_top_3 = robyn_lyrics.nlargest(3, 'sentiment_score')\n",
    "robyn_top_3"
   ]
  },
  {
   "cell_type": "code",
   "execution_count": 242,
   "id": "bf407537-85ac-4154-aab8-1b24b5c34a87",
   "metadata": {
    "scrolled": true
   },
   "outputs": [
    {
     "data": {
      "text/html": [
       "<div>\n",
       "<style scoped>\n",
       "    .dataframe tbody tr th:only-of-type {\n",
       "        vertical-align: middle;\n",
       "    }\n",
       "\n",
       "    .dataframe tbody tr th {\n",
       "        vertical-align: top;\n",
       "    }\n",
       "\n",
       "    .dataframe thead th {\n",
       "        text-align: right;\n",
       "    }\n",
       "</style>\n",
       "<table border=\"1\" class=\"dataframe\">\n",
       "  <thead>\n",
       "    <tr style=\"text-align: right;\">\n",
       "      <th></th>\n",
       "      <th>artist</th>\n",
       "      <th>song</th>\n",
       "      <th>lyrics</th>\n",
       "      <th>sentiment_score</th>\n",
       "    </tr>\n",
       "  </thead>\n",
       "  <tbody>\n",
       "    <tr>\n",
       "      <th>53</th>\n",
       "      <td>robyn</td>\n",
       "      <td>dontfuckingtellmewhattodo</td>\n",
       "      <td>\"Don't Fucking Tell Me What To Do\"\\n\\n\\n\\nMy drinking is killing me\\nMy drinking is killing me\\nMy drinking is killing me\\nMy drinking is killing me\\nMy drinking is killing me\\nMy drinking is killing me\\nMy drinking is killing me\\nMy drinking is killing me\\nMy drinking is killing me\\nMy drinking is killing me\\nMy drinking is killing me\\nMy drinking is killing me\\nMy drinking is killing me\\nMy drinking is killing me\\nMy drinking is killing me\\n\\nMy smoking is killing me\\nMy diet is killing me\\nMy heels are killing me\\nMy shopping's killing me\\nMy ego is killing me\\nCan't sleep, it's killing me\\nMy label's killing me\\nKickdrum\\n\\nMy phone is killing me\\nMy email is killing me\\nThese hours are killing me\\nMy tour is killing me\\nThis flight is killing me\\nMy manager's killing me\\nMy mother's killing me\\nMy landlord's killing me\\nMy boss is killing me\\nThe TV is killing me\\nYour nagging is killing me\\nMy boyfriend's killing me\\nMy talking's killing me\\nKilling me\\nKilling me\\n\\nCan't sleep, it's killing me\\nMy dreams are killing me\\nTV is killing me\\nMy talking's killing me\\nLet go, you're killing me\\nEase up, you're killing me\\nCalm down, you're killing me\\nMy god, you're killing me\\n\\nMy drinking is killing me\\nMy smoking is killing me\\nMy head is killing me\\nMy mind is killing me\\nMy back is killing me\\nMy neck is killing me\\nYour nagging is killing me\\nMy gut is killing me\\nMy PMS is killing me\\nMy email is killing me\\nThese hours are killing me\\nMy tour is killing me\\nThis flight is killing me\\nMy manager's killing me\\nMy mother's killing me\\nMy landlord's killing me\\nMy smoking is killing me\\nThe TV is killing me\\nYour nagging is killing me\\nEase up, you're killing me\\nLet go, you're killing me\\nCalm down, you're killing me\\nMy god, you're killing me\\n\\nDon't fucking tell me what to do, do\\nDon't fucking tell me what to do, do, do, do, do\\nDon't fucking tell me what to do\\nDon't fucking tell me what to do, do\\nDon't fucking tell me what to do, do\\nDon't fucking tell me what to do\\nDon't fucking tell me what to do\\nDon't fucking tell me what to do\\nDon't fucking tell me what to do\\n</td>\n",
       "      <td>-0.883495</td>\n",
       "    </tr>\n",
       "    <tr>\n",
       "      <th>75</th>\n",
       "      <td>robyn</td>\n",
       "      <td>dontfuckingtellmewhattodo114520</td>\n",
       "      <td>\"Don't Fucking Tell Me What To Do\"\\n\\n\\n\\nMy drinking is killing me\\nMy drinking is killing me\\nMy drinking is killing me\\nMy drinking is killing me\\nMy drinking is killing me\\nMy drinking is killing me\\nMy drinking is killing me\\nMy drinking is killing me\\nMy drinking is killing me\\nMy drinking is killing me\\nMy drinking is killing me\\nMy drinking is killing me\\nMy drinking is killing me\\nMy drinking is killing me\\nMy drinking is killing me\\n\\nMy smoking is killing me\\nMy diet is killing me\\nMy heels are killing me\\nMy shopping's killing me\\nMy ego is killing me\\nCan't sleep, it's killing me\\nMy label's killing me\\nKickdrum\\n\\nMy phone is killing me\\nMy email is killing me\\nThese hours are killing me\\nMy tour is killing me\\nThis flight is killing me\\nMy manager's killing me\\nMy mother's killing me\\nMy landlord's killing me\\nMy boss is killing me\\nThe TV is killing me\\nYour nagging is killing me\\nMy boyfriend's killing me\\nMy talking's killing me\\nKilling me\\nKilling me\\n\\nCan't sleep, it's killing me\\nMy dreams are killing me\\nTV is killing me\\nMy talking's killing me\\nLet go, you're killing me\\nEase up, you're killing me\\nCalm down, you're killing me\\nMy god, you're killing me\\n\\nMy drinking is killing me\\nMy smoking is killing me\\nMy head is killing me\\nMy mind is killing me\\nMy back is killing me\\nMy neck is killing me\\nYour nagging is killing me\\nMy gut is killing me\\nMy PMS is killing me\\nMy email is killing me\\nThese hours are killing me\\nMy tour is killing me\\nThis flight is killing me\\nMy manager's killing me\\nMy mother's killing me\\nMy landlord's killing me\\nMy smoking is killing me\\nThe TV is killing me\\nYour nagging is killing me\\nEase up, you're killing me\\nLet go, you're killing me\\nCalm down, you're killing me\\nMy god, you're killing me\\n\\nDon't fucking tell me what to do, do\\nDon't fucking tell me what to do, do, do, do, do\\nDon't fucking tell me what to do\\nDon't fucking tell me what to do, do\\nDon't fucking tell me what to do, do\\nDon't fucking tell me what to do\\nDon't fucking tell me what to do\\nDon't fucking tell me what to do\\nDon't fucking tell me what to do\\n</td>\n",
       "      <td>-0.883495</td>\n",
       "    </tr>\n",
       "    <tr>\n",
       "      <th>16</th>\n",
       "      <td>robyn</td>\n",
       "      <td>criminalintent</td>\n",
       "      <td>\"Criminal Intent\"\\n\\n\\n\\nSomebody alert the authorities, I got criminal intent\\nConspiracy to engage in lewd and indecent acts and events\\nI'mma wind it, grind it, oh my, I'mma say it again\\nSomebody alert the authorities, she's got criminal intent\\n\\nSomebody alert the authorities, I got criminal intent\\nConspiracy to engage in lewd and indecent acts and events\\nI'mma wind it, grind it, oh my, I'mma say it again\\nSomebody alert the authorities, she's got criminal intent\\n\\nSomebody alert the authorities, I got criminal intent\\nConspiracy to engage in lewd and indecent acts and events\\nI'mma wind it, grind it, oh my, I'mma say it again\\nSomebody alert the authorities, I got criminal intent\\n\\n- Will the defendant please rise? State your full name for the record.\\n- Robyn\\n- Do you wish to say anything before the sentence is imposed?\\n- I do your Honor!\\n\\nYou know, from time to time\\nI need to get down\\nUnwind and just bump and grind\\nGet my shot on, have some fun\\nA little dirty never hurt anyone\\nI admit, I can get somewhat X-rated on the floor\\nBut your Honor, how's that something you get incarcerated for?\\n\\nI-I-I done nothing that's wrong \\n?? something that's frowned upon\\nI object most strongly Judge, they played my song\\n\\nSomebody alert the authorities, I got criminal intent\\nConspiracy to engage in lewd and indecent acts and events\\nI'mma wind it, grind it, oh my, I'mma say it again\\nSomebody alert the authorities, she's got criminal intent\\n\\nSomebody alert the authorities, I got criminal intent\\nConspiracy to engage in lewd and indecent acts and events\\nI'mma wind it, grind it, oh my, I'mma say it again\\nSomebody alert the authorities, I got criminal intent\\nSomebody alert the authorities, she's got criminal intent\\n\\nY-yo-yo Judge, may the record reflect the fact \\nI don't have any priors\\nBesides, would you pardon me \\nFor being inappropriately attired?\\nBut yo, listen, them cuffs down at county\\nTotally ripped up my pantyhose\\nAnd some snitch punk at legal aid\\nStole my voucher for court clothes\\n\\nI done nothing that's wrong \\n?? something that's frowned upon\\nI object most strongly Judge, they played my song\\n\\nSomebody alert the authorities, I got criminal intent\\nConspiracy to engage in lewd and indecent acts and events\\nI'mma wind it, grind it, oh my, I'mma say it again\\nSomebody alert the authorities, she's got criminal intent\\n\\nSomebody alert the authorities, I got criminal intent\\nConspiracy to engage in lewd and indecent acts and events\\nI'mma wind it, grind it, oh my, I'mma say it again\\nSomebody alert the authorities, I got criminal intent\\nSomebody alert the authorities, she's got criminal intent\\n</td>\n",
       "      <td>-0.742857</td>\n",
       "    </tr>\n",
       "    <tr>\n",
       "      <th>95</th>\n",
       "      <td>robyn</td>\n",
       "      <td>crashandburngirl</td>\n",
       "      <td>\"Crash And Burn Girl\"\\n\\n\\n\\nI should write a song about you and all the shit that you do\\nYou don't even know what's up\\nBut soon it all comes crashing down on you\\nSince we're on the subject\\ntell me why your name's in the dictionary when I look up idiot\\nCheck yourself, it's very necessary\\n\\nGet up shake your rump girl\\nCause this track is for you\\nAnd baby this is not a love song\\n\\nStop listen what's that sound\\nSupersonic spinning round\\nYou don't mind the fall \\nuntil your face hits the ground\\n\\nCrash and burn girl\\ngoin' down down down down down\\nCrash and burn girl\\nYou don't mind the fall \\nuntil your face hits the ground\\n\\nYou should have a sticker on you saying Warning Keep Out\\nYou're the kind of girl that'll mess you up for life\\nthat's smashing up his car\\ncrying on his doorstep\\nwaiting in the rain all night\\nAnd did you tell him you're the kind that\\nnever show your ugly side until you sticking like glue\\nShit you even go down on him\\nthough he never do it for you\\nTime to clear the runway for the\\n\\nStop listen what's that sound\\nSupersonic spinning round\\nYou don't mind the fall \\nuntil your face hits the ground\\n\\nIt's just that every time you mess it up like that\\nI see myself in you\\nI've been there too\\nAnd there's so many times I stand beside\\nand see what you are going through\\nWhere you're headed to\\n\\nCrash and burn girl\\ngoin' down down down down\\nCrash and burn girl\\nYou don't mind the fall \\nuntil your face hits the ground\\n\\nCrash and burn girl\\nYou keep on banging your head\\nGirl your shirt's all red\\n\\nCrash and burn girl\\nYou don't mind the fall \\nuntil your face hits the ground\\n</td>\n",
       "      <td>-0.578947</td>\n",
       "    </tr>\n",
       "  </tbody>\n",
       "</table>\n",
       "</div>"
      ],
      "text/plain": [
       "   artist                             song  \\\n",
       "53  robyn        dontfuckingtellmewhattodo   \n",
       "75  robyn  dontfuckingtellmewhattodo114520   \n",
       "16  robyn                   criminalintent   \n",
       "95  robyn                 crashandburngirl   \n",
       "\n",
       "                                                                                                                                                                                                                                                                                                                                                                                                                                                                                                                                                                                                                                                                                                                                                                                                                                                                                                                                                                                                                                                                                                                                                                                                                                                                                                                                                                                                                                                                                                                                                                                                                                                                                                                                                                                                                                                                                                                                                                                                                                                                                                                                                                                                                                                                                                                                                                                                                                                                                                                                                                                                                                                                                                                                                                               lyrics  \\\n",
       "53                                                                                                                                                                                                                                                                                                                                                                                                                                                                                                                                                                            \"Don't Fucking Tell Me What To Do\"\\n\\n\\n\\nMy drinking is killing me\\nMy drinking is killing me\\nMy drinking is killing me\\nMy drinking is killing me\\nMy drinking is killing me\\nMy drinking is killing me\\nMy drinking is killing me\\nMy drinking is killing me\\nMy drinking is killing me\\nMy drinking is killing me\\nMy drinking is killing me\\nMy drinking is killing me\\nMy drinking is killing me\\nMy drinking is killing me\\nMy drinking is killing me\\n\\nMy smoking is killing me\\nMy diet is killing me\\nMy heels are killing me\\nMy shopping's killing me\\nMy ego is killing me\\nCan't sleep, it's killing me\\nMy label's killing me\\nKickdrum\\n\\nMy phone is killing me\\nMy email is killing me\\nThese hours are killing me\\nMy tour is killing me\\nThis flight is killing me\\nMy manager's killing me\\nMy mother's killing me\\nMy landlord's killing me\\nMy boss is killing me\\nThe TV is killing me\\nYour nagging is killing me\\nMy boyfriend's killing me\\nMy talking's killing me\\nKilling me\\nKilling me\\n\\nCan't sleep, it's killing me\\nMy dreams are killing me\\nTV is killing me\\nMy talking's killing me\\nLet go, you're killing me\\nEase up, you're killing me\\nCalm down, you're killing me\\nMy god, you're killing me\\n\\nMy drinking is killing me\\nMy smoking is killing me\\nMy head is killing me\\nMy mind is killing me\\nMy back is killing me\\nMy neck is killing me\\nYour nagging is killing me\\nMy gut is killing me\\nMy PMS is killing me\\nMy email is killing me\\nThese hours are killing me\\nMy tour is killing me\\nThis flight is killing me\\nMy manager's killing me\\nMy mother's killing me\\nMy landlord's killing me\\nMy smoking is killing me\\nThe TV is killing me\\nYour nagging is killing me\\nEase up, you're killing me\\nLet go, you're killing me\\nCalm down, you're killing me\\nMy god, you're killing me\\n\\nDon't fucking tell me what to do, do\\nDon't fucking tell me what to do, do, do, do, do\\nDon't fucking tell me what to do\\nDon't fucking tell me what to do, do\\nDon't fucking tell me what to do, do\\nDon't fucking tell me what to do\\nDon't fucking tell me what to do\\nDon't fucking tell me what to do\\nDon't fucking tell me what to do\\n   \n",
       "75                                                                                                                                                                                                                                                                                                                                                                                                                                                                                                                                                                            \"Don't Fucking Tell Me What To Do\"\\n\\n\\n\\nMy drinking is killing me\\nMy drinking is killing me\\nMy drinking is killing me\\nMy drinking is killing me\\nMy drinking is killing me\\nMy drinking is killing me\\nMy drinking is killing me\\nMy drinking is killing me\\nMy drinking is killing me\\nMy drinking is killing me\\nMy drinking is killing me\\nMy drinking is killing me\\nMy drinking is killing me\\nMy drinking is killing me\\nMy drinking is killing me\\n\\nMy smoking is killing me\\nMy diet is killing me\\nMy heels are killing me\\nMy shopping's killing me\\nMy ego is killing me\\nCan't sleep, it's killing me\\nMy label's killing me\\nKickdrum\\n\\nMy phone is killing me\\nMy email is killing me\\nThese hours are killing me\\nMy tour is killing me\\nThis flight is killing me\\nMy manager's killing me\\nMy mother's killing me\\nMy landlord's killing me\\nMy boss is killing me\\nThe TV is killing me\\nYour nagging is killing me\\nMy boyfriend's killing me\\nMy talking's killing me\\nKilling me\\nKilling me\\n\\nCan't sleep, it's killing me\\nMy dreams are killing me\\nTV is killing me\\nMy talking's killing me\\nLet go, you're killing me\\nEase up, you're killing me\\nCalm down, you're killing me\\nMy god, you're killing me\\n\\nMy drinking is killing me\\nMy smoking is killing me\\nMy head is killing me\\nMy mind is killing me\\nMy back is killing me\\nMy neck is killing me\\nYour nagging is killing me\\nMy gut is killing me\\nMy PMS is killing me\\nMy email is killing me\\nThese hours are killing me\\nMy tour is killing me\\nThis flight is killing me\\nMy manager's killing me\\nMy mother's killing me\\nMy landlord's killing me\\nMy smoking is killing me\\nThe TV is killing me\\nYour nagging is killing me\\nEase up, you're killing me\\nLet go, you're killing me\\nCalm down, you're killing me\\nMy god, you're killing me\\n\\nDon't fucking tell me what to do, do\\nDon't fucking tell me what to do, do, do, do, do\\nDon't fucking tell me what to do\\nDon't fucking tell me what to do, do\\nDon't fucking tell me what to do, do\\nDon't fucking tell me what to do\\nDon't fucking tell me what to do\\nDon't fucking tell me what to do\\nDon't fucking tell me what to do\\n   \n",
       "16  \"Criminal Intent\"\\n\\n\\n\\nSomebody alert the authorities, I got criminal intent\\nConspiracy to engage in lewd and indecent acts and events\\nI'mma wind it, grind it, oh my, I'mma say it again\\nSomebody alert the authorities, she's got criminal intent\\n\\nSomebody alert the authorities, I got criminal intent\\nConspiracy to engage in lewd and indecent acts and events\\nI'mma wind it, grind it, oh my, I'mma say it again\\nSomebody alert the authorities, she's got criminal intent\\n\\nSomebody alert the authorities, I got criminal intent\\nConspiracy to engage in lewd and indecent acts and events\\nI'mma wind it, grind it, oh my, I'mma say it again\\nSomebody alert the authorities, I got criminal intent\\n\\n- Will the defendant please rise? State your full name for the record.\\n- Robyn\\n- Do you wish to say anything before the sentence is imposed?\\n- I do your Honor!\\n\\nYou know, from time to time\\nI need to get down\\nUnwind and just bump and grind\\nGet my shot on, have some fun\\nA little dirty never hurt anyone\\nI admit, I can get somewhat X-rated on the floor\\nBut your Honor, how's that something you get incarcerated for?\\n\\nI-I-I done nothing that's wrong \\n?? something that's frowned upon\\nI object most strongly Judge, they played my song\\n\\nSomebody alert the authorities, I got criminal intent\\nConspiracy to engage in lewd and indecent acts and events\\nI'mma wind it, grind it, oh my, I'mma say it again\\nSomebody alert the authorities, she's got criminal intent\\n\\nSomebody alert the authorities, I got criminal intent\\nConspiracy to engage in lewd and indecent acts and events\\nI'mma wind it, grind it, oh my, I'mma say it again\\nSomebody alert the authorities, I got criminal intent\\nSomebody alert the authorities, she's got criminal intent\\n\\nY-yo-yo Judge, may the record reflect the fact \\nI don't have any priors\\nBesides, would you pardon me \\nFor being inappropriately attired?\\nBut yo, listen, them cuffs down at county\\nTotally ripped up my pantyhose\\nAnd some snitch punk at legal aid\\nStole my voucher for court clothes\\n\\nI done nothing that's wrong \\n?? something that's frowned upon\\nI object most strongly Judge, they played my song\\n\\nSomebody alert the authorities, I got criminal intent\\nConspiracy to engage in lewd and indecent acts and events\\nI'mma wind it, grind it, oh my, I'mma say it again\\nSomebody alert the authorities, she's got criminal intent\\n\\nSomebody alert the authorities, I got criminal intent\\nConspiracy to engage in lewd and indecent acts and events\\nI'mma wind it, grind it, oh my, I'mma say it again\\nSomebody alert the authorities, I got criminal intent\\nSomebody alert the authorities, she's got criminal intent\\n   \n",
       "95                                                                                                                                                                                                                                                                                                                                                                                                                                                                                                                                                                                                                                                                                                                                                                                                                                                                                                                                                                                                                                                                       \"Crash And Burn Girl\"\\n\\n\\n\\nI should write a song about you and all the shit that you do\\nYou don't even know what's up\\nBut soon it all comes crashing down on you\\nSince we're on the subject\\ntell me why your name's in the dictionary when I look up idiot\\nCheck yourself, it's very necessary\\n\\nGet up shake your rump girl\\nCause this track is for you\\nAnd baby this is not a love song\\n\\nStop listen what's that sound\\nSupersonic spinning round\\nYou don't mind the fall \\nuntil your face hits the ground\\n\\nCrash and burn girl\\ngoin' down down down down down\\nCrash and burn girl\\nYou don't mind the fall \\nuntil your face hits the ground\\n\\nYou should have a sticker on you saying Warning Keep Out\\nYou're the kind of girl that'll mess you up for life\\nthat's smashing up his car\\ncrying on his doorstep\\nwaiting in the rain all night\\nAnd did you tell him you're the kind that\\nnever show your ugly side until you sticking like glue\\nShit you even go down on him\\nthough he never do it for you\\nTime to clear the runway for the\\n\\nStop listen what's that sound\\nSupersonic spinning round\\nYou don't mind the fall \\nuntil your face hits the ground\\n\\nIt's just that every time you mess it up like that\\nI see myself in you\\nI've been there too\\nAnd there's so many times I stand beside\\nand see what you are going through\\nWhere you're headed to\\n\\nCrash and burn girl\\ngoin' down down down down\\nCrash and burn girl\\nYou don't mind the fall \\nuntil your face hits the ground\\n\\nCrash and burn girl\\nYou keep on banging your head\\nGirl your shirt's all red\\n\\nCrash and burn girl\\nYou don't mind the fall \\nuntil your face hits the ground\\n   \n",
       "\n",
       "    sentiment_score  \n",
       "53        -0.883495  \n",
       "75        -0.883495  \n",
       "16        -0.742857  \n",
       "95        -0.578947  "
      ]
     },
     "execution_count": 242,
     "metadata": {},
     "output_type": "execute_result"
    }
   ],
   "source": [
    "# Get the bottom 3 scores\n",
    "robyn_bottom_3 = robyn_lyrics.nsmallest(4, 'sentiment_score')\n",
    "robyn_bottom_3"
   ]
  },
  {
   "cell_type": "markdown",
   "id": "e8178e36-887c-4999-a7b7-f3bda61bb250",
   "metadata": {},
   "source": [
    "Q: For your second artist, what are the three songs that have the highest and lowest sentiments? Print the lyrics of those songs to the screen. What do you think is driving the sentiment score? \n",
    "\n",
    "A: Robyn's top 3 and bottom 3 songs based on sentiment are printed above. For the positive sentiment songs (Jag Vet En Dejlig Rosa, Baby Forgive Me, and Monument), the lyrics include the words power, love, forgive, monument, and smile which probably drives the positive sentiment. I think Jag Vet En Dejlig Rosa is mistakenly included in this list because it is in Spanish, so the sentiment is not accurately calculated. For the negative sentiment songs (Don't Fucking Tell Me What To Do, Criminal Intent, and Crash and Burn Girl), the lyrics include words such as killing, criminal, hurt, crash, and burn which drives the negative score."
   ]
  },
  {
   "cell_type": "markdown",
   "id": "1f8334f4",
   "metadata": {},
   "source": [
    "Q: Plot the distributions of the sentiment scores for both artists. You can use `seaborn` to plot densities or plot histograms in matplotlib."
   ]
  },
  {
   "cell_type": "markdown",
   "id": "676ff4fa-270e-4150-a6b3-bc620ab59a09",
   "metadata": {},
   "source": [
    "Q: Plot the distributions of the sentiment scores for both artists. You can use `seaborn` to plot densities or plot histograms in matplotlib."
   ]
  },
  {
   "cell_type": "code",
   "execution_count": null,
   "id": "4e722ee4-a1e9-4098-a861-62572a6d5ed2",
   "metadata": {},
   "outputs": [],
   "source": []
  },
  {
   "cell_type": "code",
   "execution_count": null,
   "id": "838edb03-8050-446f-b90c-babe3e5572be",
   "metadata": {},
   "outputs": [],
   "source": []
  },
  {
   "cell_type": "code",
   "execution_count": null,
   "id": "afa395d9-8a1d-4a56-951d-2fadd2028fb0",
   "metadata": {},
   "outputs": [],
   "source": []
  },
  {
   "cell_type": "code",
   "execution_count": 135,
   "id": "1a5c1d25",
   "metadata": {},
   "outputs": [],
   "source": [
    "# your code here\n",
    "data = {'emoji': ['😂', '❤️', '😭', '😍', '✨', '♥️', '😊', '😔', '💕', '😘', \n",
    "                  '😒', '😩', '😁', '🔥', '💔', '😢', '😳', '😡', '😞', '😑', '🙃'],\n",
    "        'score': [1, 1, -1, 1, 1, 1, 1, -1, 1, 1, \n",
    "                  -1, -1, 1, 1, -1, -1, -1, -1, -1, -1, -1]}\n",
    "emojis = pd.DataFrame(data)"
   ]
  },
  {
   "cell_type": "markdown",
   "id": "b3fe644d",
   "metadata": {},
   "source": [
    "## Sentiment Analysis on Twitter Descriptions\n",
    "\n",
    "In this section, define two sets of emojis you designate as positive and negative. Make sure to have at least 10 emojis per set. You can learn about the most popular emojis on Twitter at [the emojitracker](https://emojitracker.com/). \n",
    "\n",
    "Associate your positive emojis with a score of +1, negative with -1. Score the average sentiment of your two artists based on the Twitter descriptions of their followers. The average sentiment can just be the total score divided by number of followers. You do not need to calculate sentiment on non-emoji content for this section."
   ]
  },
  {
   "cell_type": "code",
   "execution_count": 137,
   "id": "6f58c809-d97a-49e2-8b3c-3bdc5dcbd00a",
   "metadata": {},
   "outputs": [],
   "source": [
    "# Checks if contains emojis\n",
    "def contains_emoji(s):\n",
    "    \n",
    "    s = str(s)\n",
    "    emojis = [ch for ch in s if emoji.is_emoji(ch)]\n",
    "\n",
    "    return(len(emojis) > 0)\n",
    "\n",
    "# Check which twitter descriptions have emojis\n",
    "twitter_data['has_emoji'] = twitter_data[\"description\"].apply(contains_emoji)"
   ]
  },
  {
   "cell_type": "code",
   "execution_count": 138,
   "id": "aab242d0-f8be-4291-bae1-cbb27a0262f7",
   "metadata": {},
   "outputs": [],
   "source": [
    "twitter_data = twitter_data[twitter_data['has_emoji']==True]"
   ]
  },
  {
   "cell_type": "code",
   "execution_count": null,
   "id": "e0f46c6e-b1fc-44e3-99e1-9944267d6a9c",
   "metadata": {},
   "outputs": [],
   "source": []
  },
  {
   "cell_type": "code",
   "execution_count": null,
   "id": "814be943-ec19-44da-95d3-9aef71bb1f49",
   "metadata": {},
   "outputs": [],
   "source": []
  },
  {
   "cell_type": "code",
   "execution_count": 141,
   "id": "ebd07f56-6d34-4f80-bc80-919ae8736d4a",
   "metadata": {},
   "outputs": [],
   "source": [
    "# Create function to calculate sentiment score with emojis\n",
    "def calculate_score_emojis(text): \n",
    "\n",
    "    # Lower case\n",
    "    text = str.lower(text)\n",
    "\n",
    "    # Remove punctuation\n",
    "    text = remove_punctuation(text)\n",
    "\n",
    "    # Tokenize text\n",
    "    tokens = tokenize(text)\n",
    "\n",
    "    # Remove stopwords\n",
    "    tokens = remove_stop(tokens)\n",
    "\n",
    "    # \n",
    "    sentiment_score = 0\n",
    "    \n",
    "    for word in tokens:\n",
    "        if word in emojis['emoji'].values:\n",
    "            score = emojis.loc[emojis['emoji'] == word, 'score'].values[0]\n",
    "            sentiment_score += score\n",
    "            \n",
    "    return sentiment_score / len(tokens)"
   ]
  },
  {
   "cell_type": "code",
   "execution_count": null,
   "id": "bbdfb265-d471-4a07-ae9b-5c673b83f61c",
   "metadata": {},
   "outputs": [],
   "source": []
  },
  {
   "cell_type": "code",
   "execution_count": null,
   "id": "6ce6e73e-fe41-4265-b63c-887419771278",
   "metadata": {},
   "outputs": [],
   "source": []
  },
  {
   "cell_type": "code",
   "execution_count": null,
   "id": "51849f4b-b2b0-484c-9fbd-77354a25d47d",
   "metadata": {},
   "outputs": [],
   "source": []
  },
  {
   "cell_type": "markdown",
   "id": "fb92eb93",
   "metadata": {},
   "source": [
    "Q: What is the average sentiment of your two artists? \n",
    "\n",
    "A: <!-- Your answer here --> \n",
    "\n",
    "---\n",
    "\n",
    "Q: Which positive emoji is the most popular for each artist? Which negative emoji? \n",
    "\n",
    "A: <!-- Your answer here --> \n",
    "\n"
   ]
  },
  {
   "cell_type": "code",
   "execution_count": 143,
   "id": "0d44395e-3283-410c-b91d-b76359a82eb4",
   "metadata": {},
   "outputs": [],
   "source": [
    "#\n",
    "twitter_data['sentiment_score'] = twitter_data['description'].apply(calculate_score_emojis)\n",
    "twitter_data"
   ]
  },
  {
   "cell_type": "code",
   "execution_count": 147,
   "id": "cb46b589-9628-471d-a757-7fd1d88a4ef9",
   "metadata": {},
   "outputs": [
    {
     "data": {
      "text/plain": [
       "artist\n",
       "cher     0.014761\n",
       "robyn    0.013571\n",
       "Name: sentiment_score, dtype: float64"
      ]
     },
     "execution_count": 147,
     "metadata": {},
     "output_type": "execute_result"
    }
   ],
   "source": [
    "twitter_avg = twitter_data.groupby('artist')['sentiment_score'].mean()\n",
    "twitter_avg"
   ]
  },
  {
   "cell_type": "code",
   "execution_count": null,
   "id": "c29fb194-8378-40de-bb4f-575d4e4c7dab",
   "metadata": {},
   "outputs": [],
   "source": []
  }
 ],
 "metadata": {
  "kernelspec": {
   "display_name": "Python 3 (ipykernel)",
   "language": "python",
   "name": "python3"
  },
  "language_info": {
   "codemirror_mode": {
    "name": "ipython",
    "version": 3
   },
   "file_extension": ".py",
   "mimetype": "text/x-python",
   "name": "python",
   "nbconvert_exporter": "python",
   "pygments_lexer": "ipython3",
   "version": "3.11.4"
  }
 },
 "nbformat": 4,
 "nbformat_minor": 5
}
